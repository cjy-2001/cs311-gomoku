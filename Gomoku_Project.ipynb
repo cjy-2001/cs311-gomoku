{
 "cells": [
  {
   "cell_type": "markdown",
   "metadata": {},
   "source": [
    "# Gomoku AI\n",
    "\n",
    "This Jupyter Notebook demonstrates the use of an AI that can play the game of Gomoku. The AI uses a combination of Minimax algorithm and Alpha-Beta Pruning for efficient search of the game tree.\n",
    "\n",
    "## Game State Representation\n",
    "\n",
    "The game state is represented as a list of 25 integers (for a 5x5 board), with 0 representing an empty cell, 1 representing a cell occupied by player 1's stone, and 2 representing a cell occupied by player 2's stone. It should be player 1's turn to play.\n",
    "\n",
    "Here's an example of a game state:\n",
    "\n",
    "|   | 0 | 1 | 2 | 3 | 4 |\n",
    "|---|---|---|---|---|---|\n",
    "| 0 | 0 | 0 | 0 | 0 | 0 |\n",
    "| 1 | 0 | 2 | 2 | 1 | 0 |\n",
    "| 2 | 0 | 2 | 1 | 0 | 0 |\n",
    "| 3 | 0 | 1 | 2 | 0 | 0 |\n",
    "| 4 | 1 | 0 | 0 | 0 | 0 |\n",
    "\n",
    "This game state is represented as the following list:\n",
    "\n",
    "[0, 0, 0, 0, 0, 0, 2, 2, 1, 0, 0, 2, 1, 0, 0, 0, 1, 2, 0, 0, 1, 0, 0, 0, 0]"
   ]
  },
  {
   "cell_type": "code",
   "execution_count": 6,
   "metadata": {},
   "outputs": [
    {
     "name": "stdout",
     "output_type": "stream",
     "text": [
      "The best move for player 1 is: (0, 4)\n"
     ]
    }
   ],
   "source": [
    "from project import Gomoku\n",
    "\n",
    "# Initialize the game state\n",
    "board_list = [0, 0, 0, 0, 0, 0, 2, 2, 1, 0, 0, 2, 1, 0, 0, 0, 1, 2, 0, 0, 1, 0, 0, 0, 0]\n",
    "board_size = 5\n",
    "\n",
    "# Convert the list to a dictionary\n",
    "board_dict = {(i//board_size, i%board_size): board_list[i] for i in range(len(board_list))}\n",
    "\n",
    "# Initialize the Gomoku game\n",
    "gomoku = Gomoku(state=board_dict, board_size=board_size)\n",
    "\n",
    "# Get the best move for player 1\n",
    "best_move = gomoku.best_move(3)\n",
    "print(\"The best move for player 1 is:\", best_move[0])"
   ]
  },
  {
   "cell_type": "markdown",
   "metadata": {},
   "source": [
    "which leads to:\n",
    "\n",
    "\n",
    "|   | 0 | 1 | 2 | 3 | 4 |\n",
    "|---|---|---|---|---|---|\n",
    "| 0 | 0 | 0 | 0 | 0 | 1 |\n",
    "| 1 | 0 | 2 | 2 | 1 | 0 |\n",
    "| 2 | 0 | 2 | 1 | 0 | 0 |\n",
    "| 3 | 0 | 1 | 2 | 0 | 0 |\n",
    "| 4 | 1 | 0 | 0 | 0 | 0 |\n",
    "\n",
    "Player 1 wins!"
   ]
  }
 ],
 "metadata": {
  "kernelspec": {
   "display_name": "Python 3",
   "language": "python",
   "name": "python3"
  },
  "language_info": {
   "codemirror_mode": {
    "name": "ipython",
    "version": 3
   },
   "file_extension": ".py",
   "mimetype": "text/x-python",
   "name": "python",
   "nbconvert_exporter": "python",
   "pygments_lexer": "ipython3",
   "version": "3.11.1"
  },
  "orig_nbformat": 4
 },
 "nbformat": 4,
 "nbformat_minor": 2
}
